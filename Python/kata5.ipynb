{
 "cells": [
  {
   "cell_type": "markdown",
   "metadata": {},
   "source": [
    "## Ejercicis Kata 5"
   ]
  },
  {
   "cell_type": "markdown",
   "metadata": {},
   "source": [
    "### Ejercicio 1"
   ]
  },
  {
   "cell_type": "code",
   "execution_count": null,
   "metadata": {},
   "outputs": [],
   "source": [
    "tierra = 149597870\n",
    "jupiter = 778547200\n",
    "\n",
    "km = tierra - jupiter\n",
    "print(abs(km))\n",
    "\n",
    "millas = km * .621\n",
    "print(round(abs(millas)))"
   ]
  },
  {
   "cell_type": "markdown",
   "metadata": {},
   "source": [
    "### Ejercicio 2"
   ]
  },
  {
   "cell_type": "code",
   "execution_count": 7,
   "metadata": {},
   "outputs": [
    {
     "name": "stdout",
     "output_type": "stream",
     "text": [
      "Programa para calcular distancia entre planetas en Km y Millas\n",
      "Ingresa la distancia del primer planeta:\n",
      "Ingresa la distancia del segundo planeta:\n",
      "La distancia en Km es: 50300000\n",
      "La distancia en Millas es: 31236300\n"
     ]
    }
   ],
   "source": [
    "print(\"Programa para calcular distancia entre planetas en Km y Millas\")\n",
    "\n",
    "print(\"Ingresa la distancia del primer planeta:\")\n",
    "planeta1 = int(input())\n",
    "print(\"Ingresa la distancia del segundo planeta:\")\n",
    "planeta2 = int(input())\n",
    "\n",
    "dist_km = planeta1 - planeta2\n",
    "dist_mill = dist_km * .621\n",
    "\n",
    "print(\"La distancia en Km es: \" + str(abs(dist_km)))\n",
    "print(\"La distancia en Millas es: \" + str(abs(round(dist_mill))))"
   ]
  }
 ],
 "metadata": {
  "interpreter": {
   "hash": "86ec14569f5abedace16e084a244465803c7fb060c5248fb79187fd2b90e924d"
  },
  "kernelspec": {
   "display_name": "Python 3.10.2 64-bit",
   "language": "python",
   "name": "python3"
  },
  "language_info": {
   "codemirror_mode": {
    "name": "ipython",
    "version": 3
   },
   "file_extension": ".py",
   "mimetype": "text/x-python",
   "name": "python",
   "nbconvert_exporter": "python",
   "pygments_lexer": "ipython3",
   "version": "3.10.2"
  },
  "orig_nbformat": 4
 },
 "nbformat": 4,
 "nbformat_minor": 2
}
