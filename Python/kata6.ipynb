{
 "cells": [
  {
   "cell_type": "markdown",
   "metadata": {},
   "source": [
    "## Ejercicios Kata 6"
   ]
  },
  {
   "cell_type": "markdown",
   "metadata": {},
   "source": [
    "### Ejercicio 1"
   ]
  },
  {
   "cell_type": "code",
   "execution_count": null,
   "metadata": {},
   "outputs": [],
   "source": [
    "planets = [\"Mercurio\", \"Venus\", \"Tierra\", \"Marte\", \"Jupiter\", \"Saturno\", \"Neptuno\"]\n",
    "\n",
    "print(planets)\n",
    "\n",
    "planets.append(\"Pluton\")\n",
    "\n",
    "print(planets)"
   ]
  },
  {
   "cell_type": "markdown",
   "metadata": {},
   "source": [
    "### Ejercicio 2"
   ]
  },
  {
   "cell_type": "code",
   "execution_count": 3,
   "metadata": {},
   "outputs": [
    {
     "name": "stdout",
     "output_type": "stream",
     "text": [
      "Ingresa el nombre de un planeta. (La primer letra tiene que ser mayuscula)\n",
      "Los planetas mas cercanos al sol que :Tierra\n",
      "['Mercurio', 'Venus']\n",
      "Los planetas mas lejanos al sol que :Tierra\n",
      "['Marte', 'Jupiter', 'Saturno', 'Neptuno']\n"
     ]
    }
   ],
   "source": [
    "planets = [\"Mercurio\", \"Venus\", \"Tierra\", \"Marte\", \"Jupiter\", \"Saturno\", \"Neptuno\"]\n",
    "print(\"Ingresa el nombre de un planeta. (La primer letra tiene que ser mayuscula)\")\n",
    "pl_re = input()\n",
    "\n",
    "ix_pl = planets.index(pl_re)\n",
    "\n",
    "print(\"Los planetas mas cercanos al sol que :\" + pl_re)\n",
    "print(planets[0:ix_pl])\n",
    "\n",
    "print(\"Los planetas mas lejanos al sol que :\" + pl_re)\n",
    "print(planets[ix_pl + 1:])"
   ]
  }
 ],
 "metadata": {
  "interpreter": {
   "hash": "86ec14569f5abedace16e084a244465803c7fb060c5248fb79187fd2b90e924d"
  },
  "kernelspec": {
   "display_name": "Python 3.10.2 64-bit",
   "language": "python",
   "name": "python3"
  },
  "language_info": {
   "codemirror_mode": {
    "name": "ipython",
    "version": 3
   },
   "file_extension": ".py",
   "mimetype": "text/x-python",
   "name": "python",
   "nbconvert_exporter": "python",
   "pygments_lexer": "ipython3",
   "version": "3.10.2"
  },
  "orig_nbformat": 4
 },
 "nbformat": 4,
 "nbformat_minor": 2
}
