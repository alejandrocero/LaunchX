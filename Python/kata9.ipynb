{
 "cells": [
  {
   "cell_type": "markdown",
   "metadata": {},
   "source": [
    "## Ejercicios Kata 9"
   ]
  },
  {
   "cell_type": "markdown",
   "metadata": {},
   "source": [
    "### Ejercicio 1"
   ]
  },
  {
   "cell_type": "code",
   "execution_count": 3,
   "metadata": {},
   "outputs": [
    {
     "name": "stdout",
     "output_type": "stream",
     "text": [
      "20.0\n"
     ]
    }
   ],
   "source": [
    "def fuel(*args):\n",
    "    def avg(args):\n",
    "        total = sum(args)\n",
    "        items = len(args)\n",
    "        promedio = total / items\n",
    "        return print(promedio)\n",
    "    return avg(args)\n",
    "\n",
    "fuel(10, 30, 20)"
   ]
  },
  {
   "cell_type": "markdown",
   "metadata": {},
   "source": [
    "### Ejercicio 2"
   ]
  },
  {
   "cell_type": "code",
   "execution_count": 4,
   "metadata": {},
   "outputs": [
    {
     "name": "stdout",
     "output_type": "stream",
     "text": [
      "Este vuelo se dirige a tierra. El tiempo de vuelo aproximado es de 30 minutos. Y quedan 5000 litros de combustible.\n"
     ]
    }
   ],
   "source": [
    "def inform(pre_time, flight_time, destination, external_tank, internal_tank):\n",
    "    return print(\"Este vuelo se dirige a \" + destination + \". El tiempo de vuelo aproximado es de \" + str(pre_time + flight_time) + \" minutos. Y quedan \" + str(external_tank + internal_tank) + \" litros de combustible.\")\n",
    "\n",
    "inform(10, 20, \"tierra\", 3000, 2000)"
   ]
  }
 ],
 "metadata": {
  "interpreter": {
   "hash": "86ec14569f5abedace16e084a244465803c7fb060c5248fb79187fd2b90e924d"
  },
  "kernelspec": {
   "display_name": "Python 3.10.2 64-bit",
   "language": "python",
   "name": "python3"
  },
  "language_info": {
   "codemirror_mode": {
    "name": "ipython",
    "version": 3
   },
   "file_extension": ".py",
   "mimetype": "text/x-python",
   "name": "python",
   "nbconvert_exporter": "python",
   "pygments_lexer": "ipython3",
   "version": "3.10.2"
  },
  "orig_nbformat": 4
 },
 "nbformat": 4,
 "nbformat_minor": 2
}
