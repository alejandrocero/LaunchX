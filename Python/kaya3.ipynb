{
 "cells": [
  {
   "cell_type": "markdown",
   "metadata": {},
   "source": [
    "## Ejercicios Kata 3"
   ]
  },
  {
   "cell_type": "markdown",
   "metadata": {},
   "source": [
    "### Ejercicio 1"
   ]
  },
  {
   "cell_type": "code",
   "execution_count": 2,
   "metadata": {},
   "outputs": [
    {
     "name": "stdout",
     "output_type": "stream",
     "text": [
      "Cuanto mide el asteroide?:\n",
      "No pasa nada\n"
     ]
    }
   ],
   "source": [
    "print(\"Introduce diametro del asteroide\")\n",
    "asteroide = input()\n",
    "\n",
    "if int(asteroide) > 25:\n",
    "    print(\"Corre, un asteroide viene en camino!\")\n",
    "else:\n",
    "    print(\"No pasa nada\")\n"
   ]
  },
  {
   "cell_type": "markdown",
   "metadata": {},
   "source": [
    "### Ejercicio 2"
   ]
  },
  {
   "cell_type": "code",
   "execution_count": null,
   "metadata": {},
   "outputs": [],
   "source": [
    "print(\"Introduce la velocidad del asteroide\")\n",
    "v_asteroide = input()\n",
    "\n",
    "if int(v_asteroide) > 25:\n",
    "    print(\"Corre, un asteroide viene en camino!\")\n",
    "else:\n",
    "    print(\"No pasa nada\")\n"
   ]
  },
  {
   "cell_type": "markdown",
   "metadata": {},
   "source": [
    "### Ejercicio 3"
   ]
  },
  {
   "cell_type": "code",
   "execution_count": 4,
   "metadata": {},
   "outputs": [
    {
     "name": "stdout",
     "output_type": "stream",
     "text": [
      "Introduce la velocidad del asteoride\n",
      "Mira el rayo en el cielo\n"
     ]
    }
   ],
   "source": [
    "print(\"Introduce la velocidad del asteoride\")\n",
    "v_asteroide = input()\n",
    "\n",
    "if int(v_asteroide) >= 20:\n",
    "    print(\"Mira el rayo en el cielo\")\n",
    "else:\n",
    "    print(\"No pasa nada\")"
   ]
  }
 ],
 "metadata": {
  "interpreter": {
   "hash": "86ec14569f5abedace16e084a244465803c7fb060c5248fb79187fd2b90e924d"
  },
  "kernelspec": {
   "display_name": "Python 3.10.2 64-bit",
   "language": "python",
   "name": "python3"
  },
  "language_info": {
   "codemirror_mode": {
    "name": "ipython",
    "version": 3
   },
   "file_extension": ".py",
   "mimetype": "text/x-python",
   "name": "python",
   "nbconvert_exporter": "python",
   "pygments_lexer": "ipython3",
   "version": "3.10.2"
  },
  "orig_nbformat": 4
 },
 "nbformat": 4,
 "nbformat_minor": 2
}
