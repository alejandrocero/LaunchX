{
 "cells": [
  {
   "cell_type": "markdown",
   "metadata": {},
   "source": [
    "## Ejercicios Kata 7"
   ]
  },
  {
   "cell_type": "markdown",
   "metadata": {},
   "source": [
    "### Ejercicio 1"
   ]
  },
  {
   "cell_type": "code",
   "execution_count": 4,
   "metadata": {},
   "outputs": [
    {
     "name": "stdout",
     "output_type": "stream",
     "text": [
      "[]\n",
      "['tierra']\n",
      "['tierra', 'mercurio']\n",
      "['tierra', 'mercurio', 'venus']\n",
      "['tierra', 'mercurio', 'venus', 'marte']\n",
      "['tierra', 'mercurio', 'venus', 'marte', 'jupiter']\n",
      "['tierra', 'mercurio', 'venus', 'marte', 'jupiter', 'saturno']\n",
      "['tierra', 'mercurio', 'venus', 'marte', 'jupiter', 'saturno', 'neptuno']\n",
      "['tierra', 'mercurio', 'venus', 'marte', 'jupiter', 'saturno', 'neptuno', 'urano']\n",
      "['tierra', 'mercurio', 'venus', 'marte', 'jupiter', 'saturno', 'neptuno', 'urano', 'pluton']\n"
     ]
    }
   ],
   "source": [
    "new_planet = \"\"\n",
    "planets = []\n",
    "\n",
    "while new_planet.lower() != \"done\":\n",
    "    if new_planet:\n",
    "        planets.append(new_planet)\n",
    "    new_planet = input(\"Ingresa un nuevop planeta\")\n",
    "    print(planets)"
   ]
  },
  {
   "cell_type": "code",
   "execution_count": 5,
   "metadata": {},
   "outputs": [
    {
     "name": "stdout",
     "output_type": "stream",
     "text": [
      "tierra\n",
      "mercurio\n",
      "venus\n",
      "marte\n",
      "jupiter\n",
      "saturno\n",
      "neptuno\n",
      "urano\n",
      "pluton\n"
     ]
    }
   ],
   "source": [
    "planets = ['tierra', 'mercurio', 'venus', 'marte', 'jupiter', 'saturno', 'neptuno', 'urano', 'pluton']\n",
    "for planet in planets:\n",
    "    print(planet)\n"
   ]
  }
 ],
 "metadata": {
  "interpreter": {
   "hash": "86ec14569f5abedace16e084a244465803c7fb060c5248fb79187fd2b90e924d"
  },
  "kernelspec": {
   "display_name": "Python 3.10.2 64-bit",
   "language": "python",
   "name": "python3"
  },
  "language_info": {
   "codemirror_mode": {
    "name": "ipython",
    "version": 3
   },
   "file_extension": ".py",
   "mimetype": "text/x-python",
   "name": "python",
   "nbconvert_exporter": "python",
   "pygments_lexer": "ipython3",
   "version": "3.10.2"
  },
  "orig_nbformat": 4
 },
 "nbformat": 4,
 "nbformat_minor": 2
}
