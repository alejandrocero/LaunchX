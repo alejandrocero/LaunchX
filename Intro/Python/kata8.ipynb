{
 "cells": [
  {
   "cell_type": "markdown",
   "metadata": {},
   "source": [
    "### Ejercicios Kata 8"
   ]
  },
  {
   "cell_type": "markdown",
   "metadata": {},
   "source": [
    "### Ejrcicio 1"
   ]
  },
  {
   "cell_type": "code",
   "execution_count": 19,
   "metadata": {},
   "outputs": [
    {
     "name": "stdout",
     "output_type": "stream",
     "text": [
      "Mars tiene 2 lunas.\n",
      "La circunferencia de Mars es 6752\n"
     ]
    }
   ],
   "source": [
    "planet = {\n",
    "    \"name\": \"Mars\",\n",
    "    \"moons\": 2\n",
    "}\n",
    "\n",
    "print(planet.get(\"name\") + \" tiene \" + str(planet.get(\"moons\")) + \" lunas.\")\n",
    "\n",
    "planet[\"circunferencia (km)\"] = {\n",
    "    \"polar\": 6752,\n",
    "    \"equatorial\": 6792\n",
    "}\n",
    "\n",
    "print(\"La circunferencia de \" + planet[\"name\"] + \" es \" + str(planet[\"circunferencia (km)\"][\"polar\"]))"
   ]
  },
  {
   "cell_type": "markdown",
   "metadata": {},
   "source": [
    "### Ejercicio 2"
   ]
  },
  {
   "cell_type": "code",
   "execution_count": 24,
   "metadata": {},
   "outputs": [
    {
     "name": "stdout",
     "output_type": "stream",
     "text": [
      "17.833333333333332\n"
     ]
    }
   ],
   "source": [
    "planet_moons = {\n",
    "    'mercury': 0,\n",
    "    'venus': 0,\n",
    "    'earth': 1,\n",
    "    'mars': 2,\n",
    "    'jupiter': 79,\n",
    "    'saturn': 82,\n",
    "    'uranus': 27,\n",
    "    'neptune': 14,\n",
    "    'pluto': 5,\n",
    "    'haumea': 2,\n",
    "    'makemake': 1,\n",
    "    'eris': 1\n",
    "}\n",
    "\n",
    "moons = planet_moons.values()\n",
    "\n",
    "planets = len(planet_moons.keys())\n",
    "\n",
    "total_moons = 0\n",
    "\n",
    "for lunas in moons:\n",
    "    total_moons = total_moons + lunas\n",
    "\n",
    "print(total_moons / planets)"
   ]
  }
 ],
 "metadata": {
  "interpreter": {
   "hash": "86ec14569f5abedace16e084a244465803c7fb060c5248fb79187fd2b90e924d"
  },
  "kernelspec": {
   "display_name": "Python 3.10.2 64-bit",
   "language": "python",
   "name": "python3"
  },
  "language_info": {
   "codemirror_mode": {
    "name": "ipython",
    "version": 3
   },
   "file_extension": ".py",
   "mimetype": "text/x-python",
   "name": "python",
   "nbconvert_exporter": "python",
   "pygments_lexer": "ipython3",
   "version": "3.10.2"
  },
  "orig_nbformat": 4
 },
 "nbformat": 4,
 "nbformat_minor": 2
}
